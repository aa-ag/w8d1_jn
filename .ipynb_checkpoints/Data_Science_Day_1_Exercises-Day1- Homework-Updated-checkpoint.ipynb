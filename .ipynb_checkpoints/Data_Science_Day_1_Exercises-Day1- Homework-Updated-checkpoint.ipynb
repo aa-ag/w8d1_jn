{
 "cells": [
  {
   "cell_type": "markdown",
   "metadata": {},
   "source": [
    "# Exercises"
   ]
  },
  {
   "cell_type": "markdown",
   "metadata": {},
   "source": [
    "### #1 - Calculate the BMI (body mass index) on the two lists below using NDArrays..."
   ]
  },
  {
   "cell_type": "code",
   "execution_count": 1,
   "metadata": {},
   "outputs": [
    {
     "name": "stdout",
     "output_type": "stream",
     "text": [
      "Requirement already satisfied: numpy in /Users/aaronaguerrevere/opt/anaconda3/lib/python3.7/site-packages (1.18.1)\r\n"
     ]
    }
   ],
   "source": [
    "!pip install numpy"
   ]
  },
  {
   "cell_type": "code",
   "execution_count": 16,
   "metadata": {},
   "outputs": [
    {
     "name": "stdout",
     "output_type": "stream",
     "text": [
      "BMI's: [16.24 17.22 18.13 18.99 19.79 20.54 21.25]\n",
      "\n"
     ]
    },
    {
     "data": {
      "text/plain": [
       "['16.24 is medically considered: underweight',\n",
       " '17.22 is medically considered: underweight',\n",
       " '18.13 is medically considered: underweight',\n",
       " '18.99 is medically considered: normal',\n",
       " '19.79 is medically considered: normal',\n",
       " '20.54 is medically considered: normal',\n",
       " '21.25 is medically considered: normal']"
      ]
     },
     "execution_count": 16,
     "metadata": {},
     "output_type": "execute_result"
    }
   ],
   "source": [
    "import numpy as np\n",
    "# formula = weight / (height**2) * 730\n",
    "height = np.array([69, 70, 71, 72, 73, 74, 75])\n",
    "weight = np.array([110, 120, 130, 140, 150, 160, 170])\n",
    "\n",
    "bmi = np.round((weight / (height ** 2)) * 703, 2)\n",
    "print(f\"BMI's: {bmi}\\n\")\n",
    "\n",
    "# https://www.nhlbi.nih.gov/health/educational/lose_wt/BMI/bmicalc.htm \n",
    "\n",
    "# Underweight = <18.5\n",
    "# Normal weight = 18.5–24.9\n",
    "# Overweight = 25–29.9\n",
    "# Obesity = BMI of 30 or greater\n",
    "\n",
    "category = []\n",
    "for i in bmi:\n",
    "    if i <= 18.50:\n",
    "        category.append(f\"{i} is medically considered: underweight\")\n",
    "    elif i > 18.50:\n",
    "        category.append(f\"{i} is medically considered: normal\")\n",
    "    elif i < 29.9:\n",
    "        category.append(f\"{i} is medically considered: overweight\")\n",
    "    else:\n",
    "        category.append(f\"{i} is medically considered: obesity\")\n",
    "        \n",
    "category"
   ]
  },
  {
   "cell_type": "markdown",
   "metadata": {},
   "source": [
    "### #2 - Create a function that will take in two parameters and will create a random matrix based off of those parameters. Extra: Have additional parameters taken in that allow the user to choose the shape and data type of the matrix."
   ]
  },
  {
   "cell_type": "code",
   "execution_count": 93,
   "metadata": {},
   "outputs": [
    {
     "data": {
      "text/plain": [
       "array([[31, 63, 50, 25, 36, 21,  1,  5, 45],\n",
       "       [30, 38, 41,  5, 35, 41, 62, 37, 71],\n",
       "       [40, 32, 26, 24, 49, 56, 79, 56, 30],\n",
       "       [61, 77, 25,  6, 61, 20,  9, 64, 64],\n",
       "       [29, 12,  9, 27, 26, 10, 79, 37, 39],\n",
       "       [58,  4, 58, 73, 67,  0, 80, 68, 67],\n",
       "       [15, 56, 34,  2, 40, 13, 15, 12, 70],\n",
       "       [31, 46, 35, 36,  5, 48, 61, 48,  9],\n",
       "       [53, 38,  7, 25, 43, 48, 80, 13, 30]])"
      ]
     },
     "execution_count": 93,
     "metadata": {},
     "output_type": "execute_result"
    }
   ],
   "source": [
    "# Example makeMatrix(param1,param2) -- Extra params can be added here as well\n",
    "\n",
    "# def makeMatrix(low,high,shape,data_type = float):\n",
    "#     pass\n",
    "\n",
    "# def theArchitecht(p1, p2):\n",
    "#     m = np.arange(p1, p2)\n",
    "#     print(m.reshape(4, 4))\n",
    "#     print(m.reshape(8, 8))\n",
    "#     print(m.reshape(9, 9))\n",
    "    \n",
    "# theArchitecht(0, 16)\n",
    "# theArchitecht(0, 64)\n",
    "# theArchitecht(0, 81)\n",
    "\n",
    "# def theArchitecht(p1, p2, p3, p4):\n",
    "#     m = np.arange(p1, p2)\n",
    "#     print(m.reshape(p3, p4))\n",
    "\n",
    "# theArchitecht(0, 16, 4, 4)\n",
    "# theArchitecht(0, 64, 8, 8)\n",
    "# theArchitecht(0, 81, 9, 9)\n",
    "\n",
    "# def theArchitecht(p1, p2, p3, p4):\n",
    "#     m = np.arange(p1, p2)\n",
    "#     if p2 == p3 * p4:\n",
    "#         print(m.reshape(p3, p4))\n",
    "#     else:\n",
    "#         print(\"\\nCan't do that, amigo.\")\n",
    "    \n",
    "# theArchitecht(0, 16, 4, 4)\n",
    "# theArchitecht(0, 16, 3, 3)\n",
    "\n",
    "def theArchitecht(p1, p2, p3, p4):\n",
    "    return np.random.uniform(p1, p2, p3).astype(p4)\n",
    "\n",
    "# makeMatrix(0, 16, (4,4), p4=float)\n",
    "# theArchitecht(0, 64, (8, 8), p4=float)\n",
    "theArchitecht(0, 81, (9, 9), p4=int)"
   ]
  },
  {
   "cell_type": "markdown",
   "metadata": {},
   "source": [
    "### #3 - Extra: Open and load the data in the two text files that have the Boston Red Sox hitting data for the past seasons. Compare the difference in the two years by putting the data into an NDArray and running a differencial operation on it. The column to look for will be SLG.\n",
    "\n",
    "Your output should display which year (either 2017 or 2018) was a better year based on SLG"
   ]
  },
  {
   "cell_type": "code",
   "execution_count": 92,
   "metadata": {},
   "outputs": [
    {
     "name": "stdout",
     "output_type": "stream",
     "text": [
      "2017 was better for the Red Sox.\n"
     ]
    }
   ],
   "source": [
    "FIELDS = ['Rk', 'Pos', 'Name', 'Age', 'G', 'PA', 'AB', 'R', 'H', '2B', '3B', 'HR', 'RBI', 'SB', 'CS', \n",
    "          'BB', 'SO', 'BA', 'OBP', 'SLG', 'OPS', 'OPS+', 'TB', 'GDP', 'HBP', 'SH', 'SF', 'IBB']\n",
    "\n",
    "DATATYPES = [('rk', 'i'), ('pos', '|S25'), ('name', '|S25'), ('age', 'i'), ('g', 'i'), ('pa', 'i'), ('ab', 'i'),\n",
    "                ('r', 'i'), ('h', 'i'), ('2b', 'i'), ('3b', 'i'), ('hr', 'i'), ('rbi', 'i'), ('sb', 'i'), ('cs', 'i'),\n",
    "                ('bb', 'i'), ('so', 'i'), ('ba', 'f'), ('obp', 'f'), ('slg', 'f'), ('ops', 'f'), ('opsp', 'i'),\n",
    "                ('tb', 'i'), ('gdp', 'i'), ('hbp', 'i'), ('sh', 'i'), ('sf', 'i'), ('ibb', 'i')]\n",
    "\n",
    "#Use this function to actually open the data inside of a NDArray\n",
    "\n",
    "def load_data(filename, d=','):\n",
    "    data = np.genfromtxt(filename, delimiter=d, skip_header = 1, \\\n",
    "                        usecols = np.arange(0, 24), invalid_raise = False, \\\n",
    "                        names = FIELDS, dtype = DATATYPES)\n",
    "    return data\n",
    "\n",
    "bs17 = load_data('./redsox_2017_hitting.txt')\n",
    "bs18 = load_data('./redsox_2018_hitting.txt')\n",
    "\n",
    "slg17 = bs17['SLG']\n",
    "slg18 = bs18['SLG']\n",
    "\n",
    "# print(f'\\nSLG numbers for 2017: {slg17}')\n",
    "# print(f'\\nSLG numbers for 2017: {slg18}')\n",
    "\n",
    "slg17_nda = np.array(slg17)\n",
    "slg18_nda = np.array(slg18)\n",
    "\n",
    "# print(len(slg17_nda)) #23\n",
    "# print(len(slg18_nda)) #20\n",
    "\n",
    "# THERE WERE DIFFERENT NUMBER OF GAMES\n",
    "# ATTEMPT WITH AVERAGE\n",
    "\n",
    "if sum(slg17_nda) / len(slg17_nda) > sum(slg18_nda) / len(slg17_nda):\n",
    "    print(\"2017 was better for the Red Sox.\")\n",
    "else:\n",
    "    print(\"2018 was better for the Red Sox.\")\n"
   ]
  },
  {
   "cell_type": "code",
   "execution_count": null,
   "metadata": {},
   "outputs": [],
   "source": []
  },
  {
   "cell_type": "code",
   "execution_count": null,
   "metadata": {},
   "outputs": [],
   "source": []
  }
 ],
 "metadata": {
  "kernelspec": {
   "display_name": "Python 3",
   "language": "python",
   "name": "python3"
  },
  "language_info": {
   "codemirror_mode": {
    "name": "ipython",
    "version": 3
   },
   "file_extension": ".py",
   "mimetype": "text/x-python",
   "name": "python",
   "nbconvert_exporter": "python",
   "pygments_lexer": "ipython3",
   "version": "3.7.6"
  }
 },
 "nbformat": 4,
 "nbformat_minor": 2
}
